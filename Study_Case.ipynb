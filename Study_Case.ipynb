{
  "nbformat": 4,
  "nbformat_minor": 0,
  "metadata": {
    "colab": {
      "provenance": [],
      "authorship_tag": "ABX9TyPNhXzkVJfgQjY31DIdWKKK",
      "include_colab_link": true
    },
    "kernelspec": {
      "name": "python3",
      "display_name": "Python 3"
    },
    "language_info": {
      "name": "python"
    }
  },
  "cells": [
    {
      "cell_type": "markdown",
      "metadata": {
        "id": "view-in-github",
        "colab_type": "text"
      },
      "source": [
        "<a href=\"https://colab.research.google.com/github/fitomuhammadd/python_for_datascience/blob/main/Study_Case.ipynb\" target=\"_parent\"><img src=\"https://colab.research.google.com/assets/colab-badge.svg\" alt=\"Open In Colab\"/></a>"
      ]
    },
    {
      "cell_type": "code",
      "execution_count": 4,
      "metadata": {
        "colab": {
          "base_uri": "https://localhost:8080/"
        },
        "id": "wVcHMB7wOno_",
        "outputId": "b48be1f5-d87e-4a92-e0fa-4082e312e559"
      },
      "outputs": [
        {
          "output_type": "stream",
          "name": "stdout",
          "text": [
            "Masukkan gaji per jam Budi: 50000\n",
            "Masukkan jumlah jam kerja per minggu: 40\n",
            "\n",
            "=== Rincian Pendapatan dan Pengeluaran Budi ===\n",
            "1. Pendapatan sebelum pajak: Rp 10000000.0\n",
            "2. Pendapatan setelah pajak: Rp 8600000.0\n",
            "3. Pengeluaran untuk baju dan aksesoris: Rp 860000.0\n",
            "4. Pengeluaran untuk alat tulis: Rp 86000.0\n",
            "5. Jumlah uang yang disedekahkan: Rp 1913500.0\n",
            "6. Jumlah uang yang diterima anak yatim: Rp 574050.0\n",
            "7. Jumlah uang yang diterima kaum dhuafa: Rp 1339450.0\n"
          ]
        }
      ],
      "source": [
        "# Data awal\n",
        "gaji_per_jam = float(input(\"Masukkan gaji per jam Budi: \"))\n",
        "jam_per_minggu = float(input(\"Masukkan jumlah jam kerja per minggu: \"))\n",
        "minggu_kerja = 5  # Liburan berlangsung selama 5 minggu\n",
        "pajak = 0.14  # Pajak 14%\n",
        "baju_aksesoris = 0.10  # 10% untuk baju dan aksesoris\n",
        "alat_tulis = 0.01  # 1% untuk alat tulis\n",
        "donasi = 0.25  # 25% dari sisa uang setelah pembelian baju dan alat tulis\n",
        "anak_yatim = 0.30  # 30% dari uang sedekah diberikan kepada anak yatim\n",
        "\n",
        "# 1. Menghitung pendapatan sebelum pajak\n",
        "pendapatan_sebelum_pajak = gaji_per_jam * jam_per_minggu * minggu_kerja\n",
        "\n",
        "# 2. Menghitung pendapatan setelah pajak\n",
        "pajak_dibayar = pendapatan_sebelum_pajak * pajak\n",
        "pendapatan_setelah_pajak = pendapatan_sebelum_pajak - pajak_dibayar\n",
        "\n",
        "# 3. Menghitung pengeluaran untuk baju dan aksesoris\n",
        "pengeluaran_baju_aksesoris = pendapatan_setelah_pajak * baju_aksesoris\n",
        "\n",
        "# 4. Menghitung pengeluaran untuk alat tulis\n",
        "pengeluaran_alat_tulis = pendapatan_setelah_pajak * alat_tulis\n",
        "\n",
        "# 5. Menghitung jumlah uang yang disedekahkan\n",
        "sisa_uang_setelah_pengeluaran = pendapatan_setelah_pajak - pengeluaran_baju_aksesoris - pengeluaran_alat_tulis\n",
        "uang_sedekah = sisa_uang_setelah_pengeluaran * donasi\n",
        "\n",
        "# 6. Menghitung jumlah uang yang diterima anak yatim dan kaum dhuafa\n",
        "uang_anak_yatim = uang_sedekah * anak_yatim\n",
        "uang_kaum_dhuafa = uang_sedekah * (1 - anak_yatim)\n",
        "\n",
        "# Menampilkan hasil\n",
        "print(\"\\n=== Rincian Pendapatan dan Pengeluaran Budi ===\")\n",
        "print(\"1. Pendapatan sebelum pajak: Rp\", round(pendapatan_sebelum_pajak, 2))\n",
        "print(\"2. Pendapatan setelah pajak: Rp\", round(pendapatan_setelah_pajak, 2))\n",
        "print(\"3. Pengeluaran untuk baju dan aksesoris: Rp\", round(pengeluaran_baju_aksesoris, 2))\n",
        "print(\"4. Pengeluaran untuk alat tulis: Rp\", round(pengeluaran_alat_tulis, 2))\n",
        "print(\"5. Jumlah uang yang disedekahkan: Rp\", round(uang_sedekah, 2))\n",
        "print(\"6. Jumlah uang yang diterima anak yatim: Rp\", round(uang_anak_yatim, 2))\n",
        "print(\"7. Jumlah uang yang diterima kaum dhuafa: Rp\", round(uang_kaum_dhuafa, 2))\n"
      ]
    }
  ]
}